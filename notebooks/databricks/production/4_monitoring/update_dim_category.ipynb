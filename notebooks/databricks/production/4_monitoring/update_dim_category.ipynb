{
 "cells": [
  {
   "cell_type": "code",
   "execution_count": 0,
   "metadata": {
    "application/vnd.databricks.v1+cell": {
     "cellMetadata": {
      "byteLimit": 2048000,
      "rowLimit": 10000
     },
     "inputWidgets": {},
     "nuid": "9d939fb5-b744-4080-ba71-246094187329",
     "showTitle": false,
     "tableResultSettingsMap": {},
     "title": ""
    }
   },
   "outputs": [],
   "source": [
    "# Este código se ejecuta en una celda de un Notebook de Databricks\n",
    "# Su responsabilidad es leer un archivo CSV de novedades pre-procesado\n",
    "# y fusionarlo (MERGE) con la tabla de dimensiones 'category'.\n",
    "from pyspark.sql.functions import col\n",
    "\n",
    "# 1. --- Configuración ---\n",
    "# La ruta al archivo CSV de novedades que fue subido por tu script local.\n",
    "# Asegúrate de que el nombre del archivo coincida con el que se subió.\n",
    "updates_csv_path = \"/Volumes/workspace/tecnomundo_data_raw/uploads_dimensions/Nuevos_productos_dimensions.csv\"\n",
    "\n",
    "# La tabla de dimensiones principal que vamos a actualizar\n",
    "target_dimension_table = \"workspace.tecnomundo_data_dimensions.category\"\n",
    "\n",
    "print(f\"Archivo de novedades (CSV): {updates_csv_path}\")\n",
    "print(f\"Tabla de destino a actualizar: {target_dimension_table}\")\n",
    "\n",
    "\n",
    "# 2. --- Lectura de las Novedades ---\n",
    "# Leemos el archivo CSV. Como ya fue pre-procesado localmente,\n",
    "# los nombres de las columnas y los datos ya están estandarizados.\n",
    "print(\"\\nLeyendo archivo CSV de novedades...\")\n",
    "try:\n",
    "    df_updates = (spark.read\n",
    "                  .format(\"csv\")\n",
    "                  .option(\"header\", \"true\")\n",
    "                  .load(updates_csv_path))\n",
    "\n",
    "    # Creamos una vista temporal para usarla en el comando MERGE\n",
    "    df_updates.createOrReplaceTempView(\"category_updates_temp_view\")\n",
    "    print(\"Novedades leídas y listas para la fusión.\")\n",
    "\n",
    "except Exception as e:\n",
    "    print(f\"Error al leer el archivo CSV desde el Volume: {e}\")\n",
    "    dbutils.notebook.exit(\"No se pudo leer el archivo de novedades. Verifica la ruta y que el archivo exista.\")\n",
    "\n",
    "\n",
    "# 3. --- Fusión de Datos con MERGE INTO ---\n",
    "# Este es el comando clave. Compara la tabla de destino con la vista temporal\n",
    "# y aplica las reglas de inserción o actualización.\n",
    "print(f\"\\nEjecutando MERGE en la tabla '{target_dimension_table}'...\")\n",
    "\n",
    "try:\n",
    "    spark.sql(f\"\"\"\n",
    "      MERGE INTO {target_dimension_table} AS target\n",
    "      USING category_updates_temp_view AS source\n",
    "      ON target.codigo_producto = source.codigo_producto\n",
    "      \n",
    "      -- Si el producto ya existe, actualizamos su nombre y categoría\n",
    "      WHEN MATCHED THEN\n",
    "        UPDATE SET\n",
    "          target.nombre_del_producto = source.nombre_del_producto,\n",
    "          target.categoria = source.categoria\n",
    "          \n",
    "      -- Si el producto es nuevo, lo insertamos\n",
    "      WHEN NOT MATCHED THEN\n",
    "        INSERT (codigo_producto, nombre_del_producto, categoria)\n",
    "        VALUES (source.codigo_producto, source.nombre_del_producto, source.categoria)\n",
    "    \"\"\")\n",
    "\n",
    "    print(\"¡Éxito! La tabla de dimensiones ha sido actualizada.\")\n",
    "\n",
    "except Exception as e:\n",
    "    print(f\"Ocurrió un error durante la operación MERGE: {e}\")\n",
    "\n",
    "\n",
    "# 4. --- Verificación Final ---\n",
    "print(\"\\nMostrando una muestra de la tabla de dimensiones actualizada (ordenada por código descendente):\")\n",
    "display(spark.table(target_dimension_table).orderBy(col(\"codigo_producto\").desc()))\n",
    "\n"
   ]
  }
 ],
 "metadata": {
  "application/vnd.databricks.v1+notebook": {
   "computePreferences": null,
   "dashboards": [],
   "environmentMetadata": {
    "base_environment": "",
    "environment_version": "2"
   },
   "inputWidgetPreferences": null,
   "language": "python",
   "notebookMetadata": {
    "pythonIndentUnit": 4
   },
   "notebookName": "update_dim_category",
   "widgets": {}
  },
  "language_info": {
   "name": "python"
  }
 },
 "nbformat": 4,
 "nbformat_minor": 0
}
