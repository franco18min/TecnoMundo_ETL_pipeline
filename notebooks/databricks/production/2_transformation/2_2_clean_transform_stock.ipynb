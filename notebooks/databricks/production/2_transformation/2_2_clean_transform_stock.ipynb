{
 "cells": [
  {
   "cell_type": "code",
   "execution_count": 0,
   "metadata": {
    "application/vnd.databricks.v1+cell": {
     "cellMetadata": {
      "byteLimit": 2048000,
      "rowLimit": 10000
     },
     "inputWidgets": {},
     "nuid": "7565e023-51b7-4cca-a7ae-dd463803a7f6",
     "showTitle": false,
     "tableResultSettingsMap": {
      "0": {
       "dataGridStateBlob": null,
       "filterBlob": "{\"version\":1,\"filterGroups\":[{\"enabled\":true,\"filterGroupId\":\"fg_2df93ef\",\"op\":\"OR\",\"filters\":[{\"filterId\":\"f_50315ddd\",\"enabled\":true,\"columnId\":\"codigo_producto\",\"dataType\":\"string\",\"filterType\":\"eq\",\"filterConfig\":{}}],\"local\":false,\"updatedAt\":1753284330097}],\"syncTimestamp\":1753284330097}",
       "queryPlanFiltersBlob": "[]",
       "tableResultIndex": 0
      }
     },
     "title": ""
    }
   },
   "outputs": [],
   "source": [
    "# Este código se ejecuta en una celda de un Notebook de Databricks\n",
    "# Su responsabilidad es validar, limpiar y estandarizar la tabla de stock,\n",
    "# guardando solo las columnas 'codigo_producto' y 'stock' en la Capa de Plata.\n",
    "from pyspark.sql.functions import col, when, upper, regexp_extract\n",
    "from pyspark.sql.types import IntegerType\n",
    "\n",
    "# 1. --- Configuración de Tablas ---\n",
    "source_table = \"workspace.tecnomundo_data_raw.stock_raw\"\n",
    "output_silver_table = \"workspace.tecnomundo_data_processed.stock_cleaned\"\n",
    "output_quarantine_table = \"workspace.tecnomundo_data_reporting.stock_silver_quarantine\"\n",
    "\n",
    "print(f\"Tabla de Origen (Bronce): {source_table}\")\n",
    "print(f\"Tabla de Destino (Plata): {output_silver_table}\")\n",
    "print(f\"Tabla de Cuarentena (Errores): {output_quarantine_table}\")\n",
    "\n",
    "\n",
    "# 2. --- Lectura de la Capa de Bronce ---\n",
    "print(f\"\\nLeyendo datos desde '{source_table}'...\")\n",
    "try:\n",
    "    df_bronze = spark.table(source_table)\n",
    "    print(\"Lectura exitosa.\")\n",
    "except Exception as e:\n",
    "    print(f\"Error al leer la tabla de origen: {e}\")\n",
    "    dbutils.notebook.exit(\"No se pudo leer la tabla de origen.\")\n",
    "\n",
    "\n",
    "# 3. --- Validación y Separación de Datos ---\n",
    "print(\"\\nValidando y separando registros limpios de registros con errores...\")\n",
    "\n",
    "# Añadimos una columna temporal para convertir el stock a entero.\n",
    "# Los valores no numéricos se convertirán en NULL.\n",
    "df_pre_validated = df_bronze.withColumn(\"stock_int\", col(\"stock\").cast(IntegerType()))\n",
    "\n",
    "# Definimos las reglas de calidad:\n",
    "# 1. El 'codigo_producto' no debe ser nulo o estar vacío.\n",
    "# 2. El 'stock' debe ser un número (no nulo después del cast) y mayor o igual a -1.\n",
    "df_with_validation = df_pre_validated.withColumn(\n",
    "    \"is_valid\",\n",
    "    (col(\"codigo_producto\").isNotNull() & (col(\"codigo_producto\") != \"\")) &\n",
    "    (col(\"stock_int\").isNotNull() & (col(\"stock_int\") >= -1))\n",
    ")\n",
    "\n",
    "# Dividimos el DataFrame en dos: uno para los datos válidos y otro para la cuarentena.\n",
    "df_valid = df_with_validation.filter(col(\"is_valid\") == True)\n",
    "df_quarantine = df_with_validation.filter(col(\"is_valid\") == False).drop(\"is_valid\", \"stock_int\")\n",
    "\n",
    "valid_count = df_valid.count()\n",
    "quarantine_count = df_quarantine.count()\n",
    "\n",
    "print(f\"Se encontraron {valid_count} registros válidos (stock >= -1).\")\n",
    "print(f\"Se encontraron {quarantine_count} registros para cuarentena (stock < -1 o no numérico).\")\n",
    "\n",
    "\n",
    "# 4. --- Procesamiento de Datos Válidos (Capa de Plata) ---\n",
    "print(\"\\nProcesando, seleccionando y guardando datos limpios en la Capa de Plata...\")\n",
    "\n",
    "# Aplicamos las transformaciones y seleccionamos ÚNICAMENTE las columnas finales.\n",
    "df_silver = df_valid.select(\n",
    "    # Estandarizamos 'codigo_producto'\n",
    "    upper(\n",
    "        when(\n",
    "            col(\"codigo_producto\").rlike(\"^[A-Z]\\\\d{2}-\"), \n",
    "            regexp_extract(col(\"codigo_producto\"), r\"-(.*)$\", 1)\n",
    "        ).otherwise(col(\"codigo_producto\"))\n",
    "    ).alias(\"codigo_producto\"),\n",
    "    \n",
    "    # Usamos la columna ya convertida a entero y la renombramos a 'stock'.\n",
    "    col(\"stock_int\").alias(\"stock\")\n",
    ")\n",
    "\n",
    "# Guardamos el DataFrame final y limpio en la capa de Plata.\n",
    "(df_silver.write\n",
    " .mode(\"overwrite\")\n",
    " .option(\"overwriteSchema\", \"true\")\n",
    " .saveAsTable(output_silver_table))\n",
    "\n",
    "print(f\"¡Tabla de stock limpia y con esquema final guardada exitosamente en '{output_silver_table}'!\")\n",
    "print(\"Esquema final de la Capa de Plata:\")\n",
    "df_silver.printSchema()\n",
    "\n",
    "\n",
    "# 5. --- Manejo de Datos en Cuarentena ---\n",
    "if quarantine_count > 0:\n",
    "    print(f\"\\n--- INICIO: Filas con Errores Detectados ({quarantine_count}) ---\")\n",
    "    df_quarantine.show(truncate=False)\n",
    "    print(\"--- FIN: Filas con Errores Detectados ---\")\n",
    "    \n",
    "    print(f\"\\nGuardando registros con errores en la tabla de cuarentena '{output_quarantine_table}'...\")\n",
    "    # Guardamos los registros originales que fallaron la validación (con todas sus columnas)\n",
    "    (df_quarantine.write\n",
    "     .mode(\"overwrite\")\n",
    "     .option(\"overwriteSchema\", \"true\")\n",
    "     .saveAsTable(output_quarantine_table))\n",
    "    print(\"¡Registros en cuarentena guardados!\")\n",
    "else:\n",
    "    print(\"\\nNo se encontraron registros para la cuarentena. ¡Todos los datos pasaron la validación!\")\n",
    "\n",
    "\n",
    "# 6. --- Verificación Final ---\n",
    "print(\"\\nMostrando una muestra de los datos limpios (Capa de Plata):\")\n",
    "display(spark.table(output_silver_table))\n",
    "\n",
    "if quarantine_count > 0:\n",
    "    print(\"\\nMostrando una muestra de los datos en cuarentena:\")\n",
    "    display(spark.table(output_quarantine_table))\n"
   ]
  },
  {
   "cell_type": "code",
   "execution_count": 0,
   "metadata": {
    "application/vnd.databricks.v1+cell": {
     "cellMetadata": {
      "byteLimit": 2048000,
      "rowLimit": 10000
     },
     "inputWidgets": {},
     "nuid": "e193d053-9264-450b-a072-e7721bb57492",
     "showTitle": false,
     "tableResultSettingsMap": {},
     "title": ""
    }
   },
   "outputs": [],
   "source": [
    "display(spark.table(\"workspace.tecnomundo_data_reporting.stock_silver_quarantine\"))"
   ]
  }
 ],
 "metadata": {
  "application/vnd.databricks.v1+notebook": {
   "computePreferences": null,
   "dashboards": [],
   "environmentMetadata": {
    "base_environment": "",
    "environment_version": "2"
   },
   "inputWidgetPreferences": null,
   "language": "python",
   "notebookMetadata": {
    "pythonIndentUnit": 4
   },
   "notebookName": "2_2_clean_transform_stock",
   "widgets": {}
  },
  "language_info": {
   "name": "python"
  }
 },
 "nbformat": 4,
 "nbformat_minor": 0
}
