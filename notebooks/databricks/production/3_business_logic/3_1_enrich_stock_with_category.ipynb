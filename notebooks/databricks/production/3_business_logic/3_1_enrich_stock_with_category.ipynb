{
 "cells": [
  {
   "cell_type": "code",
   "execution_count": 0,
   "metadata": {
    "application/vnd.databricks.v1+cell": {
     "cellMetadata": {
      "byteLimit": 2048000,
      "rowLimit": 10000
     },
     "inputWidgets": {},
     "nuid": "5766e940-e5ea-4489-8a80-d7d8723d556f",
     "showTitle": false,
     "tableResultSettingsMap": {
      "0": {
       "dataGridStateBlob": "{\"version\":1,\"tableState\":{\"columnPinning\":{\"left\":[\"#row_number#\"],\"right\":[]},\"columnSizing\":{},\"columnVisibility\":{}},\"settings\":{\"columns\":{}},\"syncTimestamp\":1753312823081}",
       "filterBlob": null,
       "queryPlanFiltersBlob": null,
       "tableResultIndex": 0
      }
     },
     "title": ""
    }
   },
   "outputs": [],
   "source": [
    "# Este código se ejecuta en una celda de un Notebook de Databricks\n",
    "# Su responsabilidad es crear una tabla de dimensiones de productos enriquecida en la Capa de Oro (Gold).\n",
    "\n",
    "from pyspark.sql.functions import col\n",
    "\n",
    "# 1. --- Configuración de Tablas ---\n",
    "# Tablas de entrada (ya limpias y estandarizadas)\n",
    "category_dim_table = \"workspace.tecnomundo_data_dimensions.category\"\n",
    "stock_silver_table = \"workspace.tecnomundo_data_processed.stock_cleaned\"\n",
    "\n",
    "# Tabla de salida en la capa de Oro\n",
    "output_gold_table = \"workspace.tecnomundo_data_gold.dim_products\"\n",
    "\n",
    "print(f\"Tabla de Dimensiones de Categoría: {category_dim_table}\")\n",
    "print(f\"Tabla de Stock (Plata): {stock_silver_table}\")\n",
    "print(f\"Tabla de Destino (Oro): {output_gold_table}\")\n",
    "\n",
    "\n",
    "# 2. --- Lectura de las Tablas de Entrada ---\n",
    "print(\"\\nLeyendo tablas de entrada...\")\n",
    "try:\n",
    "    df_categories = spark.table(category_dim_table)\n",
    "    df_stock = spark.table(stock_silver_table)\n",
    "    \n",
    "    print(f\"Se leyeron {df_categories.count()} registros de la tabla de categorías.\")\n",
    "    print(\"Esquema de la tabla de categorías (verificar nombre de columna aquí):\")\n",
    "    df_categories.printSchema()\n",
    "    \n",
    "    print(f\"\\nSe leyeron {df_stock.count()} registros de la tabla de stock.\")\n",
    "    print(\"Esquema de la tabla de stock:\")\n",
    "    df_stock.printSchema()\n",
    "\n",
    "except Exception as e:\n",
    "    print(f\"Error al leer las tablas de entrada: {e}\")\n",
    "    dbutils.notebook.exit(\"No se pudieron leer las tablas de origen.\")\n",
    "\n",
    "\n",
    "# 3. --- Enriquecimiento de la Dimensión de Productos ---\n",
    "print(\"\\nEnriqueciendo la dimensión de categorías con la información de stock...\")\n",
    "\n",
    "# Hacemos un LEFT JOIN desde las categorías hacia el stock.\n",
    "# CORRECCIÓN: La condición del join debe ser explícita para evitar la ambigüedad.\n",
    "df_enriched_products = df_categories.join(\n",
    "    df_stock,\n",
    "    df_categories[\"codigo_producto\"] == df_stock[\"codigo_producto\"],\n",
    "    \"left\"\n",
    ").select(\n",
    "    # Seleccionamos explícitamente las columnas de la tabla de categorías\n",
    "    df_categories[\"codigo_producto\"],\n",
    "    # CORRECCIÓN FINAL: Usamos el nombre de columna correcto 'nombre_del_producto' del esquema.\n",
    "    df_categories[\"nombre_del_producto\"],\n",
    "    df_categories[\"categoria\"],\n",
    "    # Y la columna de stock de la tabla de stock\n",
    "    df_stock[\"stock\"].alias(\"stock_actual\")\n",
    ")\n",
    "\n",
    "print(\"Join completado.\")\n",
    "\n",
    "\n",
    "# 4. --- Guardado en la Capa de Oro ---\n",
    "print(f\"\\nGuardando la dimensión de productos enriquecida en '{output_gold_table}'...\")\n",
    "\n",
    "(df_enriched_products.write\n",
    " .mode(\"overwrite\")\n",
    " .option(\"overwriteSchema\", \"true\")\n",
    " .saveAsTable(output_gold_table))\n",
    "\n",
    "print(\"¡Tabla de dimensión de productos guardada exitosamente en la Capa de Oro!\")\n",
    "\n",
    "\n",
    "# 5. --- Verificación Final ---\n",
    "print(\"\\nMostrando una muestra de la nueva tabla de dimensiones enriquecida:\")\n",
    "display(spark.table(output_gold_table))\n",
    "\n",
    "print(\"\\nEsquema final de la tabla de dimensiones:\")\n",
    "spark.table(output_gold_table).printSchema()\n"
   ]
  }
 ],
 "metadata": {
  "application/vnd.databricks.v1+notebook": {
   "computePreferences": null,
   "dashboards": [],
   "environmentMetadata": {
    "base_environment": "",
    "environment_version": "2"
   },
   "inputWidgetPreferences": null,
   "language": "python",
   "notebookMetadata": {
    "pythonIndentUnit": 4
   },
   "notebookName": "3_1_enrich_stock_with_category",
   "widgets": {}
  },
  "language_info": {
   "name": "python"
  }
 },
 "nbformat": 4,
 "nbformat_minor": 0
}
