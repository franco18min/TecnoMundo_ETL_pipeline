{
 "cells": [
  {
   "cell_type": "code",
   "execution_count": 0,
   "metadata": {
    "application/vnd.databricks.v1+cell": {
     "cellMetadata": {
      "byteLimit": 2048000,
      "rowLimit": 10000
     },
     "inputWidgets": {},
     "nuid": "d1fd05c0-86de-4787-a994-6002d22879fa",
     "showTitle": false,
     "tableResultSettingsMap": {
      "0": {
       "dataGridStateBlob": null,
       "filterBlob": "{\"version\":1,\"filterGroups\":[],\"syncTimestamp\":1752794257331}",
       "queryPlanFiltersBlob": "[]",
       "tableResultIndex": 0
      }
     },
     "title": ""
    }
   },
   "outputs": [],
   "source": [
    "# Este código se ejecuta en una celda de un Notebook de Databricks\n",
    "# Su responsabilidad es crear la tabla de la Capa de Oro (Gold),\n",
    "# uniendo los datos limpios de la Capa de Plata con las dimensiones de negocio.\n",
    "from pyspark.sql.functions import col, lit\n",
    "\n",
    "# 1. --- Configuración de Tablas ---\n",
    "silver_table = \"workspace.tecnomundo_data_processed.reporte_de_ventas_por_articulos_2_cleaned\"\n",
    "dimension_table = \"workspace.tecnomundo_data_dimensions.category\"\n",
    "gold_table = \"workspace.tecnomundo_data_processed.reporte_de_ventas_por_articulos_2_categorized\"\n",
    "unmatched_products_table = \"workspace.tecnomundo_data_reporting.productos_sin_categoria\"\n",
    "\n",
    "print(f\"Tabla de Origen (Plata): {silver_table}\")\n",
    "print(f\"Tabla de Dimensiones: {dimension_table}\")\n",
    "print(f\"Tabla de Destino (Oro): {gold_table}\")\n",
    "print(f\"Tabla de Reporte (Productos no encontrados): {unmatched_products_table}\")\n",
    "\n",
    "\n",
    "# 2. --- Lectura de las Tablas de Origen ---\n",
    "print(f\"\\nLeyendo datos desde la Capa de Plata: '{silver_table}'...\")\n",
    "df_silver = spark.table(silver_table)\n",
    "\n",
    "print(f\"Leyendo datos desde la tabla de Dimensiones: '{dimension_table}'...\")\n",
    "df_dimensions = spark.table(dimension_table)\n",
    "\n",
    "\n",
    "# 3. --- Enriquecimiento de Datos (Categorización) ---\n",
    "# Ahora que las claves están estandarizadas en las capas anteriores,\n",
    "# podemos realizar un único y eficiente LEFT JOIN.\n",
    "print(\"\\nEnriqueciendo datos con la tabla de categorías...\")\n",
    "\n",
    "df_joined = df_silver.join(\n",
    "    df_dimensions,\n",
    "    df_silver.codigo_producto == df_dimensions.codigo_producto, # Condición de unión estandarizada\n",
    "    \"left\" # Usamos un LEFT JOIN para conservar todas las ventas\n",
    ")\n",
    "\n",
    "# 4. --- Separación de Filas Enriquecidas y No Encontradas ---\n",
    "# Identificamos los productos que no encontraron una categoría en la tabla de verdad.\n",
    "df_unmatched = df_joined.filter(col(\"categoria\").isNull()).select(df_silver[\"*\"])\n",
    "df_matched = df_joined.filter(col(\"categoria\").isNotNull())\n",
    "\n",
    "print(f\"Se encontraron {df_matched.count()} filas que fueron categorizadas exitosamente.\")\n",
    "print(f\"Se encontraron {df_unmatched.count()} filas con productos no encontrados en la tabla de verdad.\")\n",
    "\n",
    "\n",
    "# 5. --- Preparación de la Tabla de Oro ---\n",
    "# Seleccionamos y renombramos las columnas para la tabla final.\n",
    "df_gold = df_matched.select(\n",
    "    \"fecha\",\n",
    "    col(\"comprobante_num\").alias(\"numero_comprobante\"),\n",
    "    df_silver.codigo_producto, # Usamos la clave de la tabla de plata\n",
    "    \"nombre_del_producto\",\n",
    "    \"categoria\",\n",
    "    \"cantidad\",\n",
    "    col(\"precio_un_\").alias(\"precio_unitario\"),\n",
    "    \"ganancia\",\n",
    "    \"subtotal\"\n",
    ")\n",
    "print(\"\\nTabla de Oro preparada y lista para guardar.\")\n",
    "\n",
    "\n",
    "# 6. --- Guardado de las Tablas Finales ---\n",
    "# a) Guardar la tabla de Oro\n",
    "print(f\"\\nGuardando la tabla final enriquecida en la Capa de Oro: '{gold_table}'...\")\n",
    "(df_gold.write\n",
    " .mode(\"overwrite\")\n",
    " .option(\"overwriteSchema\", \"true\")\n",
    " .saveAsTable(gold_table))\n",
    "print(\"¡Tabla de la Capa de Oro guardada exitosamente!\")\n",
    "\n",
    "# b) Guardar la tabla de reporte con los productos no encontrados\n",
    "if df_unmatched.count() > 0:\n",
    "    print(f\"Guardando {df_unmatched.count()} productos no encontrados en la tabla de reporte: '{unmatched_products_table}'...\")\n",
    "    (df_unmatched.select(\"codigo_producto\")\n",
    "     .distinct() # Guardamos solo una vez cada código de producto no encontrado\n",
    "     .write\n",
    "     .mode(\"overwrite\")\n",
    "     .saveAsTable(unmatched_products_table))\n",
    "    print(\"¡Tabla de reporte de productos no encontrados guardada exitosamente!\")\n",
    "else:\n",
    "    print(\"¡Excelente! Todos los productos fueron categorizados.\")\n",
    "\n",
    "\n",
    "# 7. --- Verificación Final ---\n",
    "print(\"\\nMostrando una muestra de la tabla final (Capa de Oro):\")\n",
    "display(spark.table(gold_table))\n",
    "\n",
    "if df_unmatched.count() > 0:\n",
    "    print(\"\\nMostrando una muestra de los productos no encontrados:\")\n",
    "    display(spark.table(unmatched_products_table))\n"
   ]
  }
 ],
 "metadata": {
  "application/vnd.databricks.v1+notebook": {
   "computePreferences": null,
   "dashboards": [],
   "environmentMetadata": {
    "base_environment": "",
    "environment_version": "2"
   },
   "inputWidgetPreferences": null,
   "language": "python",
   "notebookMetadata": {
    "mostRecentlyExecutedCommandWithImplicitDF": {
     "commandId": 6403905987358083,
     "dataframes": [
      "_sqldf"
     ]
    },
    "pythonIndentUnit": 4
   },
   "notebookName": "3_1_categorize_sales",
   "widgets": {}
  },
  "language_info": {
   "name": "python"
  }
 },
 "nbformat": 4,
 "nbformat_minor": 0
}
