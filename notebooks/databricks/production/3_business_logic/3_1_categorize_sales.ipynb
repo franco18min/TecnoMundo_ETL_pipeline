{
 "cells": [
  {
   "cell_type": "code",
   "execution_count": 0,
   "metadata": {
    "application/vnd.databricks.v1+cell": {
     "cellMetadata": {
      "byteLimit": 2048000,
      "rowLimit": 10000
     },
     "inputWidgets": {},
     "nuid": "d1fd05c0-86de-4787-a994-6002d22879fa",
     "showTitle": false,
     "tableResultSettingsMap": {
      "0": {
       "dataGridStateBlob": null,
       "filterBlob": "{\"version\":1,\"filterGroups\":[],\"syncTimestamp\":1752794257331}",
       "queryPlanFiltersBlob": "[]",
       "tableResultIndex": 0
      }
     },
     "title": ""
    }
   },
   "outputs": [],
   "source": [
    "# Este código se ejecuta en una celda de un Notebook de Databricks\n",
    "# Su responsabilidad es crear la tabla de la Capa de Oro (Gold),\n",
    "# aplicando una lógica de unión avanzada para maximizar la categorización.\n",
    "from pyspark.sql.functions import col, when, upper, regexp_extract, lit\n",
    "\n",
    "# 1. --- Configuración de Tablas ---\n",
    "silver_table = \"workspace.tecnomundo_data_processed.reporte_de_ventas_por_articulos_2_cleaned\"\n",
    "dimension_table = \"workspace.tecnomundo_data_dimensions.category\"\n",
    "gold_table = \"workspace.tecnomundo_data_processed.reporte_de_ventas_por_articulos_2_categorized\"\n",
    "unmatched_products_table = \"workspace.tecnomundo_data_reporting.productos_sin_categoria\"\n",
    "\n",
    "print(f\"Tabla de Origen (Plata): {silver_table}\")\n",
    "print(f\"Tabla de Dimensiones: {dimension_table}\")\n",
    "print(f\"Tabla de Destino (Oro): {gold_table}\")\n",
    "print(f\"Tabla de Reporte (Productos no encontrados): {unmatched_products_table}\")\n",
    "\n",
    "\n",
    "# 2. --- Lectura de las Tablas de Origen ---\n",
    "print(f\"\\nLeyendo datos desde la Capa de Plata: '{silver_table}'...\")\n",
    "df_silver = spark.table(silver_table)\n",
    "\n",
    "print(f\"Leyendo datos desde la tabla de Dimensiones: '{dimension_table}'...\")\n",
    "# CORRECCIÓN: Se renombra la columna correcta ('nombre_del_artculo') para evitar ambigüedades.\n",
    "df_dimensions = (spark.table(dimension_table)\n",
    "                 .withColumnRenamed(\"nombre_del_artculo\", \"dim_nombre_producto\")\n",
    "                 .withColumnRenamed(\"categoria\", \"dim_categoria\"))\n",
    "\n",
    "\n",
    "# 3. --- Lógica de Unión en Múltiples Pasos ---\n",
    "print(\"\\nIniciando proceso de categorización en múltiples pasos...\")\n",
    "\n",
    "# Paso 3a: Estandarizar la clave en la tabla de ventas para el segundo intento\n",
    "# Creamos una columna temporal con la versión del código sin prefijo.\n",
    "df_silver_with_keys = df_silver.withColumn(\"codigo_sin_prefijo\",\n",
    "    upper(\n",
    "        when(col(\"codigo_producto\").rlike(\"^[A-Z]\\\\d{2}-\"), regexp_extract(col(\"codigo_producto\"), r'-([^-]*)$', 1))\n",
    "        .otherwise(col(\"codigo_producto\"))\n",
    "    )\n",
    ")\n",
    "\n",
    "# Intento 1: Unir por coincidencia exacta del código original\n",
    "print(\"  - Intento 1: Uniendo por coincidencia exacta del código...\")\n",
    "df_joined_exact = df_silver_with_keys.join(\n",
    "    df_dimensions,\n",
    "    df_silver_with_keys.codigo_producto == df_dimensions.codigo_producto,\n",
    "    \"left\"\n",
    ").drop(df_dimensions.codigo_producto) # Se elimina la clave duplicada\n",
    "\n",
    "# Separamos los que sí se categorizaron de los que no\n",
    "df_matched_1 = df_joined_exact.filter(col(\"dim_categoria\").isNotNull())\n",
    "df_unmatched_1 = df_joined_exact.filter(col(\"dim_categoria\").isNull()).select(df_silver_with_keys['*'])\n",
    "\n",
    "print(f\"    > {df_matched_1.count()} filas categorizadas por coincidencia exacta.\")\n",
    "print(f\"    > {df_unmatched_1.count()} filas no se encontraron, pasando al segundo intento.\")\n",
    "\n",
    "\n",
    "# Intento 2: Unir por coincidencia del código sin prefijo (solo para los que fallaron)\n",
    "print(\"  - Intento 2: Uniendo por coincidencia del código sin prefijo...\")\n",
    "df_matched_2 = df_unmatched_1.join(\n",
    "    df_dimensions,\n",
    "    df_unmatched_1.codigo_sin_prefijo == df_dimensions.codigo_producto,\n",
    "    \"left\"\n",
    ").drop(df_dimensions.codigo_producto) # Se elimina la clave duplicada\n",
    "\n",
    "# Separamos los que se categorizaron en este segundo intento de los que fallaron definitivamente\n",
    "df_matched_final_2 = df_matched_2.filter(col(\"dim_categoria\").isNotNull())\n",
    "df_unmatched_final = df_matched_2.filter(col(\"dim_categoria\").isNull()).select(df_unmatched_1['*'])\n",
    "\n",
    "print(f\"    > {df_matched_final_2.count()} filas categorizadas sin prefijo.\")\n",
    "print(f\"    > {df_unmatched_final.count()} filas no se pudieron categorizar.\")\n",
    "\n",
    "\n",
    "# 4. --- Consolidación de Resultados ---\n",
    "# Unimos los resultados de ambos intentos exitosos\n",
    "df_categorized = df_matched_1.unionByName(df_matched_final_2)\n",
    "\n",
    "# Seleccionamos y renombramos las columnas para la tabla final de Oro\n",
    "df_gold = df_categorized.select(\n",
    "    \"fecha\",\n",
    "    col(\"comprobante_num\").alias(\"numero_comprobante\"),\n",
    "    \"codigo_producto\",\n",
    "    col(\"dim_nombre_producto\").alias(\"nombre_del_producto\"),\n",
    "    col(\"dim_categoria\").alias(\"categoria\"),\n",
    "    \"cantidad\",\n",
    "    col(\"precio_un_\").alias(\"precio_unitario\"),\n",
    "    \"ganancia\",\n",
    "    \"subtotal\"\n",
    ")\n",
    "print(\"\\nResultados consolidados y listos para guardar.\")\n",
    "\n",
    "\n",
    "# 5. --- Guardado de las Tablas Finales ---\n",
    "# a) Guardar la tabla de Oro\n",
    "print(f\"\\nGuardando la tabla final enriquecida en la Capa de Oro: '{gold_table}'...\")\n",
    "(df_gold.write\n",
    " .mode(\"overwrite\")\n",
    " .option(\"overwriteSchema\", \"true\")\n",
    " .saveAsTable(gold_table))\n",
    "print(\"¡Tabla de la Capa de Oro guardada exitosamente!\")\n",
    "\n",
    "# b) Guardar la tabla de reporte con los productos no encontrados\n",
    "if df_unmatched_final.count() > 0:\n",
    "    print(f\"Guardando {df_unmatched_final.count()} productos no encontrados en la tabla de reporte: '{unmatched_products_table}'...\")\n",
    "    (df_unmatched_final.select(\"codigo_producto\")\n",
    "     .distinct() # Guardamos solo una vez cada código de producto no encontrado\n",
    "     .write\n",
    "     .mode(\"overwrite\")\n",
    "     .saveAsTable(unmatched_products_table))\n",
    "    print(\"¡Tabla de reporte de productos no encontrados guardada exitosamente!\")\n",
    "else:\n",
    "    print(\"¡Excelente! Todos los productos fueron categorizados.\")\n",
    "\n",
    "\n",
    "# 6. --- Verificación Final ---\n",
    "print(\"\\nMostrando una muestra de la tabla final (Capa de Oro):\")\n",
    "display(spark.table(gold_table))\n",
    "\n",
    "if df_unmatched_final.count() > 0:\n",
    "    print(\"\\nMostrando una muestra de los productos no encontrados:\")\n",
    "    display(spark.table(unmatched_products_table))\n"
   ]
  },
  {
   "cell_type": "code",
   "execution_count": 0,
   "metadata": {
    "application/vnd.databricks.v1+cell": {
     "cellMetadata": {
      "byteLimit": 2048000,
      "rowLimit": 10000
     },
     "inputWidgets": {},
     "nuid": "81e5ef6e-0c1b-4994-b4ee-d2651ba53eab",
     "showTitle": false,
     "tableResultSettingsMap": {
      "0": {
       "dataGridStateBlob": null,
       "filterBlob": "{\"version\":1,\"filterGroups\":[{\"enabled\":true,\"op\":\"OR\",\"filterGroupId\":\"fg_bd418004\",\"filters\":[{\"filterId\":\"f_145e37cd\",\"columnId\":\"codigo_producto\",\"enabled\":true,\"dataType\":\"string\",\"filterType\":\"eq\",\"filterValue\":\"RC85419\",\"filterConfig\":{\"caseSensitive\":true}}],\"local\":false,\"updatedAt\":1752794290979}],\"syncTimestamp\":1752794290979}",
       "queryPlanFiltersBlob": "[{\"kind\":\"call\",\"function\":\"or\",\"args\":[{\"kind\":\"call\",\"function\":\"like\",\"args\":[{\"kind\":\"identifier\",\"identifier\":\"codigo_producto\"},{\"kind\":\"literal\",\"value\":\"RC85419\",\"type\":\"string\"}]}]}]",
       "tableResultIndex": 0
      }
     },
     "title": ""
    }
   },
   "outputs": [],
   "source": [
    "display(spark.table(\"workspace.tecnomundo_data_processed.reporte_de_ventas_por_articulos_2_cleaned\"))"
   ]
  },
  {
   "cell_type": "code",
   "execution_count": 0,
   "metadata": {
    "application/vnd.databricks.v1+cell": {
     "cellMetadata": {
      "byteLimit": 2048000,
      "rowLimit": 10000
     },
     "collapsed": true,
     "inputWidgets": {},
     "nuid": "d3791bfe-c082-493f-8d45-2b52f64212b2",
     "showTitle": false,
     "tableResultSettingsMap": {
      "0": {
       "dataGridStateBlob": null,
       "filterBlob": "{\"version\":1,\"filterGroups\":[{\"enabled\":true,\"filterGroupId\":\"fg_42a1475d\",\"op\":\"OR\",\"filters\":[{\"filterId\":\"f_bcbe2e79\",\"enabled\":true,\"columnId\":\"codigo\",\"dataType\":\"string\",\"filterType\":\"eq\",\"filterValue\":\"F434\",\"filterConfig\":{\"caseSensitive\":true}}],\"local\":false,\"updatedAt\":1752793392274}],\"syncTimestamp\":1752793392274}",
       "queryPlanFiltersBlob": "[{\"kind\":\"call\",\"function\":\"or\",\"args\":[{\"kind\":\"call\",\"function\":\"like\",\"args\":[{\"kind\":\"identifier\",\"identifier\":\"codigo\"},{\"kind\":\"literal\",\"value\":\"F434\",\"type\":\"string\"}]}]}]",
       "tableResultIndex": 0
      }
     },
     "title": ""
    }
   },
   "outputs": [],
   "source": [
    "display(spark.table(\"workspace.tecnomundo_data_raw.reporte_de_ventas_por_articulos_2_raw\"))"
   ]
  },
  {
   "cell_type": "code",
   "execution_count": 0,
   "metadata": {
    "application/vnd.databricks.v1+cell": {
     "cellMetadata": {
      "byteLimit": 2048000,
      "rowLimit": 10000
     },
     "inputWidgets": {},
     "nuid": "175aa0b5-f327-4fa4-b471-7a1e56fd5d22",
     "showTitle": false,
     "tableResultSettingsMap": {
      "0": {
       "dataGridStateBlob": null,
       "filterBlob": "{\"version\":1,\"filterGroups\":[{\"enabled\":true,\"op\":\"OR\",\"filterGroupId\":\"fg_34c3ee66\",\"filters\":[{\"filterId\":\"f_1a32dd10\",\"columnId\":\"codigo_producto\",\"enabled\":true,\"dataType\":\"string\",\"filterType\":\"eq\",\"filterValue\":\"A05-RC85419\",\"filterConfig\":{\"caseSensitive\":true}}],\"local\":false,\"updatedAt\":1752794311208}],\"syncTimestamp\":1752794311209}",
       "queryPlanFiltersBlob": "[{\"kind\":\"call\",\"function\":\"or\",\"args\":[{\"kind\":\"call\",\"function\":\"like\",\"args\":[{\"kind\":\"identifier\",\"identifier\":\"codigo_producto\"},{\"kind\":\"literal\",\"value\":\"A05-RC85419\",\"type\":\"string\"}]}]}]",
       "tableResultIndex": 0
      }
     },
     "title": ""
    }
   },
   "outputs": [],
   "source": [
    "display(spark.table(\"workspace.tecnomundo_data_dimensions.category\"))"
   ]
  }
 ],
 "metadata": {
  "application/vnd.databricks.v1+notebook": {
   "computePreferences": null,
   "dashboards": [],
   "environmentMetadata": {
    "base_environment": "",
    "environment_version": "2"
   },
   "inputWidgetPreferences": null,
   "language": "python",
   "notebookMetadata": {
    "mostRecentlyExecutedCommandWithImplicitDF": {
     "commandId": 6403905987358083,
     "dataframes": [
      "_sqldf"
     ]
    },
    "pythonIndentUnit": 4
   },
   "notebookName": "3_1_categorize_sales",
   "widgets": {}
  },
  "language_info": {
   "name": "python"
  }
 },
 "nbformat": 4,
 "nbformat_minor": 0
}
