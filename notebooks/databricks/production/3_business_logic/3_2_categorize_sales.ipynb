{
 "cells": [
  {
   "cell_type": "code",
   "execution_count": 0,
   "metadata": {
    "application/vnd.databricks.v1+cell": {
     "cellMetadata": {
      "byteLimit": 2048000,
      "rowLimit": 10000
     },
     "inputWidgets": {},
     "nuid": "966752de-6cc5-45e3-b176-a340cb0309cc",
     "showTitle": false,
     "tableResultSettingsMap": {},
     "title": ""
    }
   },
   "outputs": [],
   "source": [
    "# Este código se ejecuta en una celda de un Notebook de Databricks\n",
    "# Su responsabilidad es enriquecer la tabla de ventas con la dimensión de productos\n",
    "# para crear una tabla de hechos (fact table) en la Capa de Oro (Gold).\n",
    "\n",
    "from pyspark.sql.functions import col\n",
    "\n",
    "# 1. --- Configuración de Tablas ---\n",
    "# Tablas de entrada\n",
    "sales_silver_table = \"workspace.tecnomundo_data_processed.reporte_de_ventas_por_articulos_2_cleaned\"\n",
    "products_dim_table = \"workspace.tecnomundo_data_gold.dim_products\"\n",
    "\n",
    "# Tabla de salida en la capa de Oro\n",
    "output_gold_table = \"workspace.tecnomundo_data_gold.fact_sales\"\n",
    "\n",
    "print(f\"Tabla de Ventas (Plata): {sales_silver_table}\")\n",
    "print(f\"Tabla de Dimensión de Productos (Oro): {products_dim_table}\")\n",
    "print(f\"Tabla de Destino (Oro): {output_gold_table}\")\n",
    "\n",
    "\n",
    "# 2. --- Lectura de las Tablas de Entrada ---\n",
    "print(\"\\nLeyendo tablas de entrada...\")\n",
    "try:\n",
    "    df_sales = spark.table(sales_silver_table)\n",
    "    df_products = spark.table(products_dim_table)\n",
    "    \n",
    "    print(f\"Se leyeron {df_sales.count()} registros de la tabla de ventas.\")\n",
    "    print(f\"Se leyeron {df_products.count()} registros de la tabla de dimensión de productos.\")\n",
    "\n",
    "except Exception as e:\n",
    "    print(f\"Error al leer las tablas de entrada: {e}\")\n",
    "    dbutils.notebook.exit(\"No se pudieron leer las tablas de origen.\")\n",
    "\n",
    "\n",
    "# 3. --- Enriquecimiento de la Tabla de Ventas ---\n",
    "print(\"\\nEnriqueciendo las ventas con los datos de la dimensión de productos...\")\n",
    "\n",
    "# Hacemos un LEFT JOIN desde las ventas hacia la dimensión de productos.\n",
    "df_fact_sales = df_sales.join(\n",
    "    df_products,\n",
    "    df_sales[\"codigo_producto\"] == df_products[\"codigo_producto\"],\n",
    "    \"left\"\n",
    ").select(\n",
    "    # Seleccionamos todas las columnas originales de la tabla de ventas\n",
    "    df_sales[\"*\"],\n",
    "    # Y añadimos las columnas de enriquecimiento desde la dimensión de productos\n",
    "    df_products.nombre_del_producto,\n",
    "    df_products.categoria,\n",
    "    df_products.stock_actual\n",
    ")\n",
    "\n",
    "print(\"Join completado.\")\n",
    "\n",
    "\n",
    "# 4. --- Guardado en la Capa de Oro ---\n",
    "print(f\"\\nGuardando la tabla de hechos de ventas en '{output_gold_table}'...\")\n",
    "\n",
    "(df_fact_sales.write\n",
    " .mode(\"overwrite\")\n",
    " .option(\"overwriteSchema\", \"true\")\n",
    " .saveAsTable(output_gold_table))\n",
    "\n",
    "print(\"¡Tabla de hechos de ventas guardada exitosamente en la Capa de Oro!\")\n",
    "\n",
    "\n",
    "# 5. --- Verificación Final ---\n",
    "print(\"\\nMostrando una muestra de la nueva tabla de hechos enriquecida:\")\n",
    "display(spark.table(output_gold_table))\n",
    "\n",
    "print(\"\\nEsquema final de la tabla de hechos:\")\n",
    "spark.table(output_gold_table).printSchema()\n"
   ]
  }
 ],
 "metadata": {
  "application/vnd.databricks.v1+notebook": {
   "computePreferences": null,
   "dashboards": [],
   "environmentMetadata": {
    "base_environment": "",
    "environment_version": "2"
   },
   "inputWidgetPreferences": null,
   "language": "python",
   "notebookMetadata": {
    "mostRecentlyExecutedCommandWithImplicitDF": {
     "commandId": 6403905987358083,
     "dataframes": [
      "_sqldf"
     ]
    },
    "pythonIndentUnit": 4
   },
   "notebookName": "3_2_categorize_sales",
   "widgets": {}
  },
  "language_info": {
   "name": "python"
  }
 },
 "nbformat": 4,
 "nbformat_minor": 0
}
