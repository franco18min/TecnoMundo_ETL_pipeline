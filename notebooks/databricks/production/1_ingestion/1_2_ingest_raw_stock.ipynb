{
 "cells": [
  {
   "cell_type": "code",
   "execution_count": 0,
   "metadata": {
    "application/vnd.databricks.v1+cell": {
     "cellMetadata": {
      "byteLimit": 2048000,
      "rowLimit": 10000
     },
     "inputWidgets": {},
     "nuid": "390df263-8426-49d0-8484-9bd352b0aa86",
     "showTitle": false,
     "tableResultSettingsMap": {
      "0": {
       "dataGridStateBlob": "{\"version\":1,\"tableState\":{\"columnPinning\":{\"left\":[\"#row_number#\"],\"right\":[]},\"columnSizing\":{},\"columnVisibility\":{}},\"settings\":{\"columns\":{}},\"syncTimestamp\":1753280824724}",
       "filterBlob": "{\"version\":1,\"filterGroups\":[{\"enabled\":true,\"filterGroupId\":\"fg_56ccc36f\",\"op\":\"OR\",\"filters\":[{\"filterId\":\"f_ca95a753\",\"enabled\":true,\"columnId\":\"stock\",\"dataType\":\"integer\",\"filterType\":\"eq\",\"filterValue\":\"\",\"filterConfig\":{}}],\"local\":false,\"updatedAt\":1753281111972}],\"syncTimestamp\":1753281111972}",
       "queryPlanFiltersBlob": "[]",
       "tableResultIndex": 0
      }
     },
     "title": ""
    }
   },
   "outputs": [],
   "source": [
    "# Este código se ejecuta en una celda de un Notebook de Databricks\n",
    "# Su responsabilidad es tomar el archivo CSV de stock y cargarlo en una tabla Delta de la capa Bronce.\n",
    "# Esta versión es robusta para manejar datos complejos y nombres de columna inválidos.\n",
    "\n",
    "import re\n",
    "\n",
    "# 1. --- Configuración de Rutas y Tablas ---\n",
    "volume_path = \"/Volumes/workspace/tecnomundo_data_raw/uploads_stock/\"\n",
    "csv_file_name = \"Stock.csv\"\n",
    "source_csv_path = f\"{volume_path}{csv_file_name}\"\n",
    "output_bronze_table = \"workspace.tecnomundo_data_raw.stock_raw\"\n",
    "\n",
    "print(f\"Ruta del archivo CSV de origen: {source_csv_path}\")\n",
    "print(f\"Tabla de Destino (Bronce): {output_bronze_table}\")\n",
    "\n",
    "# 2. --- Lectura Robusta del CSV ---\n",
    "print(f\"\\nLeyendo archivo CSV desde '{source_csv_path}' con opciones robustas...\")\n",
    "try:\n",
    "    # Usamos opciones avanzadas para prevenir la corrupción de datos:\n",
    "    # - inferSchema: Permite a Spark detectar los tipos de datos (ej. Integer, String).\n",
    "    # - multiLine: Permite que los campos de texto contengan saltos de línea.\n",
    "    # - escape: Define el carácter de escape para las comillas dentro de los campos.\n",
    "    df_csv = spark.read.format(\"csv\") \\\n",
    "        .option(\"header\", \"true\") \\\n",
    "        .option(\"inferSchema\", \"true\") \\\n",
    "        .option(\"multiLine\", \"true\") \\\n",
    "        .option(\"escape\", \"\\\"\") \\\n",
    "        .load(source_csv_path)\n",
    "\n",
    "    print(f\"Lectura exitosa. Se encontraron {df_csv.count()} registros.\")\n",
    "    print(\"Esquema inferido por Spark con nombres de columna originales:\")\n",
    "    df_csv.printSchema()\n",
    "\n",
    "    # 3. --- Limpieza de Nombres de Columna ---\n",
    "    print(\"\\nLimpiando nombres de columna para que sean compatibles con Delta...\")\n",
    "    \n",
    "    # Creamos una función para limpiar cada nombre de columna\n",
    "    def sanitize_column_name(col_name):\n",
    "        # Reemplaza caracteres no alfanuméricos (excepto '_') con un guion bajo\n",
    "        clean_name = re.sub(r'[^a-zA-Z0-9_]', '_', col_name)\n",
    "        # Convierte a minúsculas\n",
    "        return clean_name.lower()\n",
    "\n",
    "    # Aplicamos la limpieza a todas las columnas del DataFrame\n",
    "    cleaned_columns = [sanitize_column_name(c) for c in df_csv.columns]\n",
    "    df_cleaned = df_csv.toDF(*cleaned_columns)\n",
    "\n",
    "    print(\"Nombres de columna limpios:\")\n",
    "    df_cleaned.printSchema()\n",
    "    \n",
    "    # 4. --- Carga a la Tabla Bronce ---\n",
    "    # Guardamos el DataFrame con los nombres de columna limpios.\n",
    "    (df_cleaned.write\n",
    "     .mode(\"overwrite\")\n",
    "     .option(\"overwriteSchema\", \"true\")\n",
    "     .saveAsTable(output_bronze_table))\n",
    "    \n",
    "    print(f\"\\n¡Tabla '{output_bronze_table}' creada/actualizada exitosamente!\")\n",
    "\n",
    "except Exception as e:\n",
    "    print(f\"Error durante la ingesta a la capa Bronce: {e}\")\n",
    "    dbutils.notebook.exit(\"Fallo en el proceso de ingesta a Bronce.\")\n",
    "\n",
    "# 5. --- Verificación Final ---\n",
    "print(\"\\nMostrando una muestra de la tabla Bronce creada:\")\n",
    "display(spark.table(output_bronze_table))\n"
   ]
  },
  {
   "cell_type": "code",
   "execution_count": 0,
   "metadata": {
    "application/vnd.databricks.v1+cell": {
     "cellMetadata": {
      "byteLimit": 2048000,
      "rowLimit": 10000
     },
     "inputWidgets": {},
     "nuid": "67a076a9-88fb-4485-a5b9-e81c45f9c66f",
     "showTitle": false,
     "tableResultSettingsMap": {},
     "title": ""
    }
   },
   "outputs": [],
   "source": [
    "from pyspark.sql.functions import col\n",
    "\n",
    "bronze_df = spark.table(\"workspace.tecnomundo_data_raw.stock_raw\")\n",
    "non_numeric_stock = bronze_df.filter(~col(\"stock\").cast(\"double\").isNotNull())\n",
    "display(non_numeric_stock.select(\"stock\"))"
   ]
  }
 ],
 "metadata": {
  "application/vnd.databricks.v1+notebook": {
   "computePreferences": null,
   "dashboards": [],
   "environmentMetadata": {
    "base_environment": "",
    "environment_version": "2"
   },
   "inputWidgetPreferences": null,
   "language": "python",
   "notebookMetadata": {
    "pythonIndentUnit": 4
   },
   "notebookName": "1_2_ingest_raw_stock",
   "widgets": {}
  },
  "language_info": {
   "name": "python"
  }
 },
 "nbformat": 4,
 "nbformat_minor": 0
}
